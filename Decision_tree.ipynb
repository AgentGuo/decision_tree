{
 "cells": [
  {
   "cell_type": "markdown",
   "metadata": {},
   "source": [
    "# 决策树"
   ]
  },
  {
   "cell_type": "markdown",
   "metadata": {},
   "source": [
    "## 数据加载"
   ]
  },
  {
   "cell_type": "code",
   "execution_count": 21,
   "metadata": {},
   "outputs": [],
   "source": [
    "import csv\n",
    "import random"
   ]
  },
  {
   "cell_type": "code",
   "execution_count": 30,
   "metadata": {},
   "outputs": [],
   "source": [
    "def loadTrainData(filename):\n",
    "    data = []\n",
    "    f = list(csv.reader(open(filename, 'r')))[1:]   # 读取去掉表头的部分\n",
    "    embarkedDist = {'C':1, 'Q':2, 'S':3}    # 无缺失值时，'C':1, 'Q':2, 'S':3\n",
    "    for line in f:\n",
    "        dataDist={'survived':int(line[1]),\n",
    "             'pclass': int(line[2]),\n",
    "             'sex': 0 if line[4] == 'male' else 1,   # male:0  female:1\n",
    "             'age': 0 if len(line[5]) == 0 else float(line[5]),   # 有缺失值保存为0\n",
    "             'sibsp': int(line[6]),\n",
    "             'parch': int(line[7]),\n",
    "             'fare': float(line[9]),\n",
    "             'cabin': 0 if len(line[10]) == 0 else 1,   # 有缺失值：0  无缺失值：1\n",
    "             'embarked': 0 if len(line[11]) == 0 else embarkedDist[line[11]]}  #有缺失值：0  无缺失值保存为1、2、3\n",
    "        data.append(dataDist)\n",
    "    random.shuffle(data)     # 将加载好的数据打乱\n",
    "    trainData = data[:741]  # 按大致5:1划分训练集和验证集\n",
    "    devData = data[741:]\n",
    "    return trainData, devData"
   ]
  },
  {
   "cell_type": "code",
   "execution_count": 31,
   "metadata": {},
   "outputs": [],
   "source": [
    "trainData, devData = loadTrainData('train.csv')"
   ]
  },
  {
   "cell_type": "code",
   "execution_count": 32,
   "metadata": {},
   "outputs": [
    {
     "name": "stdout",
     "output_type": "stream",
     "text": [
      "741 150\n"
     ]
    }
   ],
   "source": [
    "print(len(trainData), len(devData))"
   ]
  },
  {
   "cell_type": "code",
   "execution_count": null,
   "metadata": {},
   "outputs": [],
   "source": [
    "class Node:\n",
    "    def __init__(self,data_set,kinds,classify,son={}):\n",
    "        self.data_set=copy.deepcopy(data_set)  # 结点所包含是数据\n",
    "        self.son={}  # 结点的孩子\n",
    "        self.kinds=copy.deepcopy(kinds)    # 结点已经使用的分类种类\n",
    "        self.classify=classify    # 结点当前的分类种类"
   ]
  },
  {
   "cell_type": "code",
   "execution_count": 29,
   "metadata": {},
   "outputs": [
    {
     "data": {
      "text/plain": [
       "150"
      ]
     },
     "execution_count": 29,
     "metadata": {},
     "output_type": "execute_result"
    }
   ],
   "source": [
    "len(data[741:])"
   ]
  },
  {
   "cell_type": "code",
   "execution_count": 16,
   "metadata": {},
   "outputs": [
    {
     "ename": "ValueError",
     "evalue": "invalid literal for int() with base 10: ''",
     "output_type": "error",
     "traceback": [
      "\u001b[1;31m---------------------------------------------------------------------------\u001b[0m",
      "\u001b[1;31mValueError\u001b[0m                                Traceback (most recent call last)",
      "\u001b[1;32m<ipython-input-16-1f3cd6bc377a>\u001b[0m in \u001b[0;36m<module>\u001b[1;34m()\u001b[0m\n\u001b[1;32m----> 1\u001b[1;33m \u001b[0mprint\u001b[0m\u001b[1;33m(\u001b[0m\u001b[0mint\u001b[0m\u001b[1;33m(\u001b[0m\u001b[1;34m''\u001b[0m\u001b[1;33m)\u001b[0m\u001b[1;33m)\u001b[0m\u001b[1;33m\u001b[0m\u001b[0m\n\u001b[0m",
      "\u001b[1;31mValueError\u001b[0m: invalid literal for int() with base 10: ''"
     ]
    }
   ],
   "source": [
    "print(int(''))"
   ]
  },
  {
   "cell_type": "code",
   "execution_count": null,
   "metadata": {},
   "outputs": [],
   "source": []
  }
 ],
 "metadata": {
  "kernelspec": {
   "display_name": "Python 3",
   "language": "python",
   "name": "python3"
  },
  "language_info": {
   "codemirror_mode": {
    "name": "ipython",
    "version": 3
   },
   "file_extension": ".py",
   "mimetype": "text/x-python",
   "name": "python",
   "nbconvert_exporter": "python",
   "pygments_lexer": "ipython3",
   "version": "3.7.0"
  }
 },
 "nbformat": 4,
 "nbformat_minor": 2
}
