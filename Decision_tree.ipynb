{
 "cells": [
  {
   "cell_type": "markdown",
   "metadata": {},
   "source": [
    "# 决策树"
   ]
  },
  {
   "cell_type": "markdown",
   "metadata": {},
   "source": [
    "## 数据加载"
   ]
  },
  {
   "cell_type": "code",
   "execution_count": 1,
   "metadata": {
    "pycharm": {
     "is_executing": false
    }
   },
   "outputs": [],
   "source": [
    "import csv\n",
    "import random\n",
    "from copy import deepcopy"
   ]
  },
  {
   "cell_type": "markdown",
   "metadata": {},
   "source": [
    "![U1yZXd.png](https://s1.ax1x.com/2020/07/12/U1yZXd.png)"
   ]
  },
  {
   "cell_type": "code",
   "execution_count": 2,
   "metadata": {
    "pycharm": {
     "is_executing": false
    }
   },
   "outputs": [],
   "source": [
    "def loadTrainData(filename):\n",
    "    data = []\n",
    "    f = list(csv.reader(open(filename, 'r')))[1:]   # 读取去掉表头的部分\n",
    "    embarkedDist = {'C':1, 'Q':2, 'S':3}    # 无缺失值时，'C':1, 'Q':2, 'S':3\n",
    "    sibspParch = [1, 2]\n",
    "    for line in f:\n",
    "        if int(line[6]) == 0:  # 转化sibsp\n",
    "            sibsp = 0\n",
    "        elif int(line[6]) <= 2:\n",
    "            sibsp = 1\n",
    "        else:\n",
    "            sibsp = 2\n",
    "        \n",
    "        if int(line[7]) == 0:   # 转化sibsp\n",
    "            parch = 0\n",
    "        elif int(line[7]) <= 2:\n",
    "            parch = 1\n",
    "        else:\n",
    "            parch = 2\n",
    "        dataDist={'survived':int(line[1]),\n",
    "             'pclass': int(line[2]) - 1,\n",
    "             'sex': 0 if line[4] == 'male' else 1,   # male:0  female:1\n",
    "             'age': 0 if len(line[5]) == 0 else float(line[5]),   # 有缺失值保存为0\n",
    "             'sibsp': sibsp,\n",
    "             'parch': parch,\n",
    "             'fare': float(line[9]),\n",
    "             'cabin': 0 if len(line[10]) == 0 else 1,   # 有缺失值：0  无缺失值：1\n",
    "             'embarked': 0 if len(line[11]) == 0 else embarkedDist[line[11]],   # 有缺失值：0  无缺失值保存为1、2、3\n",
    "                  'w': 1}  # 初始化权重\n",
    "        data.append(dataDist)\n",
    "    random.shuffle(data)     # 将加载好的数据打乱\n",
    "    trainData = data[:741]  # 按大致5:1划分训练集和验证集\n",
    "    devData = data[741:]\n",
    "    return trainData, devData"
   ]
  },
  {
   "cell_type": "code",
   "execution_count": 3,
   "metadata": {
    "pycharm": {
     "is_executing": false
    }
   },
   "outputs": [],
   "source": [
    "trainData, devData = loadTrainData('train.csv')"
   ]
  },
  {
   "cell_type": "code",
   "execution_count": 4,
   "metadata": {
    "pycharm": {
     "is_executing": false
    }
   },
   "outputs": [
    {
     "name": "stdout",
     "output_type": "stream",
     "text": [
      "741 150 {'survived': 0, 'pclass': 1, 'sex': 0, 'age': 28.0, 'sibsp': 0, 'parch': 0, 'fare': 13.0, 'cabin': 0, 'embarked': 3, 'w': 1}\n"
     ]
    }
   ],
   "source": [
    "print(len(trainData), len(devData), trainData[0])"
   ]
  },
  {
   "cell_type": "markdown",
   "metadata": {},
   "source": [
    "## 构建决策树"
   ]
  },
  {
   "cell_type": "markdown",
   "metadata": {},
   "source": [
    "### 1. 结点定义"
   ]
  },
  {
   "cell_type": "code",
   "execution_count": 5,
   "metadata": {
    "pycharm": {
     "is_executing": false
    }
   },
   "outputs": [],
   "source": [
    "class Node:\n",
    "    def __init__(self,attribute):\n",
    "        self.son = []  # 结点的孩子\n",
    "        self.attribute = attribute    # 结点当前的划分属性\n",
    "        self.boundary = -1  # 当前结点划分属性为连续值时才修改该属性\n",
    "        self.kind = -1    # 当前结点的种类，只有当时叶子结点时才指定\n",
    "        self.prior = 0  # 当进行决策时出现缺失值，优先选择的种类"
   ]
  },
  {
   "cell_type": "markdown",
   "metadata": {},
   "source": [
    "### 2. 决策树定义"
   ]
  },
  {
   "cell_type": "code",
   "execution_count": 14,
   "metadata": {
    "pycharm": {
     "is_executing": false
    }
   },
   "outputs": [],
   "source": [
    "class decisionTree:\n",
    "    def __init__(self):\n",
    "        self.root = Node('')\n",
    "    def createTree(self, attributes, datas, layer): # 当前可用属性，当前可用样本，当前所在的递归层数（即在第几层结点）\n",
    "        node = Node('')\n",
    "        sameFlag = 1    # 标记当前样本种类是否相同\n",
    "        for i in range(1, len(datas)):\n",
    "            if datas[i]['survived'] != datas[0]['survived']:\n",
    "                sameFlag = 0\n",
    "                break\n",
    "        if sameFlag == 1:        # 递归出口①：当样本属于同一类别\n",
    "            node.kind = datas[0]['survived']\n",
    "            return node\n",
    "        \n",
    "        delAttributes = []   # 需要删除的无效划分属性\n",
    "        for a in attributes:\n",
    "            if a == 'pclass' or a == 'sibsp' or a == 'parch':\n",
    "                effectiveAttribute = [0, 0, 0]   # 标记当前属性是否为有效属性\n",
    "                for data in datas:\n",
    "                    effectiveAttribute[data[a]] = 1   # 说明该属性有样本\n",
    "                if effectiveAttribute[0] * effectiveAttribute[1] * effectiveAttribute[2] == 0:  # 当该属性的有一个取值无样本，则删除该属性\n",
    "                    delAttributes.append(a)\n",
    "            elif a == 'sex' or a == 'cabin':\n",
    "                effectiveAttribute = [0, 0]   # 标记当前属性是否为有效属性\n",
    "                for data in datas:\n",
    "                    effectiveAttribute[data[a]] = 1   # 说明该属性有样本\n",
    "                if effectiveAttribute[0] * effectiveAttribute[1]== 0:  # 当该属性的有一个取值无样本，则删除该属性\n",
    "                    delAttributes.append(a)\n",
    "            elif a == 'embarked':\n",
    "                effectiveAttribute = [0 , 0, 0, 0]   # 标记当前属性是否为有效属性\n",
    "                for data in datas:\n",
    "                    effectiveAttribute[data[a]] = 1   # 说明该属性有样本\n",
    "                if effectiveAttribute[1] * effectiveAttribute[2] * effectiveAttribute[3] == 0:  # 当该属性的有一个取值无样本，则删除该属性\n",
    "                    delAttributes.append(a)                           # 不记录缺失值\n",
    "        for a in delAttributes:   # 从属性列表中删除无效属性\n",
    "            attributes.remove(a)\n",
    "        if len(attributes) == 0:   # 递归出口②：如果此时无有效属性\n",
    "            node.kind = self.getKind(datas)\n",
    "            return node\n",
    "        \n",
    "        gini, a, boundary = self.Gini(attributes, datas)\n",
    "        node.attribute = a  # 当前结点使用的划分属性\n",
    "        attributes.remove(a)\n",
    "        show_str = str(layer)\n",
    "        for i in range(layer):\n",
    "            show_str += '-*'\n",
    "        show_str += a\n",
    "        print(show_str)\n",
    "        \n",
    "        if a == 'pclass' or a == 'sibsp' or a == 'parch':\n",
    "            datasSub = [[],[],[]]  # 保存用于划分的子集\n",
    "            for data in datas:\n",
    "                datasSub[data[a]].append(deepcopy(data))  # 子集添加元素\n",
    "            if len(datasSub[0]) == 0 or len(datasSub[1]) == 0 or len(datasSub[2]) == 0:   # 递归出口③：有一个划分样本集合为空，停止划分\n",
    "                node.kind = self.getKind(datas)\n",
    "                return node\n",
    "            for i in range(3):  # 若集合都不为空，则继续递归划分\n",
    "                node.son.append(self.createTree(deepcopy(attributes), datasSub[i], layer + 1))\n",
    "            return node\n",
    "        \n",
    "        elif a == 'sex' or a == 'cabin':\n",
    "            datasSub = [[],[]]  # 保存用于划分的子集\n",
    "            for data in datas:\n",
    "                datasSub[data[a]].append(deepcopy(data))  # 子集添加元素\n",
    "            if len(datasSub[0]) == 0 or len(datasSub[1]) == 0 :   # 递归出口③：有一个划分样本集合为空，停止划分\n",
    "                node.kind = self.getKind(datas)\n",
    "                return node\n",
    "            for i in range(2):  # 若集合都不为空，则继续递归划分\n",
    "                node.son.append(self.createTree(deepcopy(attributes), datasSub[i], layer + 1))\n",
    "            return node\n",
    "        \n",
    "        elif a == 'fare':\n",
    "            node.boundary = boundary  # 由于是连续值，需要调整\n",
    "            datasSub = [[],[]]\n",
    "            for data in datas:\n",
    "                if data[a] < boundary:\n",
    "                    datasSub[0].append(deepcopy(data))   # 添加相应的权重\n",
    "                else:\n",
    "                    datasSub[1].append(deepcopy(data))   # 添加相应的权重\n",
    "            if len(datasSub[0]) == 0 or len(datasSub[1]) == 0 :   # 递归出口③：有一个划分样本集合为空，停止划分\n",
    "                node.kind = self.getKind(datas)\n",
    "                return node\n",
    "            for i in range(2):  # 若集合都不为空，则继续递归划分\n",
    "                node.son.append(self.createTree(deepcopy(attributes), datasSub[i], layer + 1))\n",
    "            return node\n",
    "        \n",
    "        elif a == 'embarked':\n",
    "            datasSub = [[],[],[]]  # 保存用于划分的子集\n",
    "            missData = []  # 保存缺失值\n",
    "            for data in datas:\n",
    "                if data[a] != 0:\n",
    "                    datasSub[data[a] - 1].append(deepcopy(data))  # 子集添加元素\n",
    "                else:\n",
    "                    missData.append(deepcopy(data))  # 添加缺失值\n",
    "            length = []\n",
    "            length.append(len(datasSub[0]))  # 记录各个集合的大小，用于后续计算\n",
    "            length.append(len(datasSub[1]))\n",
    "            length.append(len(datasSub[2]))\n",
    "            lenSum = sum(length)\n",
    "            lenMax = max(length)\n",
    "            if length[0] * length[1] * length[2] == 0:   # 递归出口③：有一个划分样本集合为空，停止划分\n",
    "                node.kind = self.getKind(datas)\n",
    "                return node\n",
    "            if lenMax == length[0]:  # 由于embarked属性有可能出现缺失值，所有要设置优先属性\n",
    "                node.prior = 0\n",
    "            elif lenMax == length[1]:\n",
    "                node.prior = 1\n",
    "            else:\n",
    "                node.prior = 2\n",
    "            for data in missData:  # 将缺失值调整权重加入到各个集合\n",
    "                for i in range(3):\n",
    "                    temp = deepcopy(data)\n",
    "                    temp['w'] *= length[i]/lenSum   # 修改权重\n",
    "                    datasSub[i].append(temp)\n",
    "            for i in range(3):  # 若集合都不为空，则继续递归划分\n",
    "                node.son.append(self.createTree(deepcopy(attributes), datasSub[i], layer + 1))\n",
    "            return node\n",
    "        \n",
    "        elif a == 'age':\n",
    "            node.boundary = boundary\n",
    "            datasSub = [[],[]]\n",
    "            missData = []  # 保存缺失值\n",
    "            for data in datas:\n",
    "                if data[a] != 0:\n",
    "                    if data[a] < boundary:\n",
    "                        datasSub[0].append(deepcopy(data))   # 添加相应的权重\n",
    "                    else:\n",
    "                        datasSub[1].append(deepcopy(data))   # 添加相应的权重\n",
    "                else:\n",
    "                    missData.append(deepcopy(data))  # 添加缺失值\n",
    "            length = []\n",
    "            length.append(len(datasSub[0]))  # 记录各个集合的大小，用于后续计算\n",
    "            length.append(len(datasSub[1]))\n",
    "            lenSum = sum(length)\n",
    "            lenMax = max(length)\n",
    "            if len(datasSub[0]) == 0 or len(datasSub[1]) == 0 :   # 递归出口③：有一个划分样本集合为空，停止划分\n",
    "                node.kind = self.getKind(datas)\n",
    "                return node\n",
    "            if lenMax == length[0]:  # 由于embarked属性有可能出现缺失值，所有要设置优先属性\n",
    "                node.prior = 0\n",
    "            else:\n",
    "                node.prior = 1\n",
    "            for data in missData:  # 将缺失值调整权重加入到各个集合\n",
    "                for i in range(2):\n",
    "                    temp = deepcopy(data)\n",
    "                    temp['w'] *= length[i]/lenSum   # 修改权重\n",
    "                    datasSub[i].append(temp)\n",
    "            \n",
    "            for i in range(2):  # 若集合都不为空，则继续递归划分\n",
    "                node.son.append(self.createTree(deepcopy(attributes), datasSub[i], layer + 1))\n",
    "            return node\n",
    "            \n",
    "        \n",
    "    def getKind(self, datas):\n",
    "        count = 0\n",
    "        for data in datas:\n",
    "            count += data['survived']\n",
    "        if count > len(datas)//2:\n",
    "            return 1\n",
    "        else:\n",
    "            return 0\n",
    "        \n",
    "    def Gini(self, attributes, datas):\n",
    "        giniList = []\n",
    "        for a in attributes:\n",
    "            if a == 'pclass' or a == 'sibsp' or a == 'parch':  # 这三类相似，离散属性都是三种取值\n",
    "                count=[[0,0], [0,0], [0,0]]   # 用于保存该属性下存活于死亡的情况\n",
    "                for data in datas:\n",
    "                    count[data[a]][data['survived']] += data['w']   # 添加相应的权重\n",
    "                gini = 0\n",
    "                for i in range(3):  # 计算基尼指数\n",
    "                    gini += (count[i][0] + count[i][1])/len(datas) * (1 - (count[i][1]/(count[i][0] + count[i][1]))**2)\n",
    "                giniList.append(gini)\n",
    "            \n",
    "            elif a == 'sex' or a == 'cabin':  # 这两类相似，离散数学都是两种取值\n",
    "                count=[[0,0], [0,0]]    # 用于保存该属性下存活于死亡的情况\n",
    "                for data in datas:\n",
    "                    count[data[a]][data['survived']] += data['w']   # 添加相应的权重\n",
    "                gini = 0\n",
    "                for i in range(2):  # 计算基尼指数\n",
    "                    gini += (count[i][0] + count[i][1])/len(datas) * (1 - (count[i][1]/(count[i][0] + count[i][1]))**2)\n",
    "                giniList.append(gini)\n",
    "                \n",
    "            elif a == 'fare':\n",
    "                fareList = []\n",
    "                for data in datas:\n",
    "                    fareList.append(data['fare'])   # 添加所有的fare\n",
    "                fareList = list(set(fareList))   # 去重\n",
    "                fareList.sort()\n",
    "                for i in range(len(fareList) - 1):\n",
    "                    fareList[i] = (fareList[i] + fareList[i+1])/2   # 计算所有可能的中位值\n",
    "                fareList.pop()\n",
    "                gini_temp = []  # 暂存所有的gini指数\n",
    "                for fare in fareList:\n",
    "                    count=[[0,0], [0,0]]\n",
    "                    for data in datas:\n",
    "                        if data['fare'] < fare:\n",
    "                            count[0][data['survived']] += data['w']   # 添加相应的权重\n",
    "                        else:\n",
    "                            count[1][data['survived']] += data['w']   # 添加相应的权重\n",
    "                    gini = 0\n",
    "                    for i in range(2):  # 计算基尼指数\n",
    "                        gini += (count[i][0] + count[i][1])/len(datas) * (1 - (count[i][1]/(count[i][0] + count[i][1]))**2)\n",
    "                    gini_temp.append(gini)\n",
    "                gini = min(gini_temp)   # 求出最小的基尼指数\n",
    "                fare = fareList[gini_temp.index(gini)]   # 求出最小基尼指数相应的划分fare\n",
    "                giniList.append(gini)\n",
    "            \n",
    "            elif a == 'embarked':\n",
    "                count=[[0,0], [0,0], [0,0]]   # 用于保存该属性下存活于死亡的情况\n",
    "                dataNum = 0\n",
    "                for data in datas:\n",
    "                    if data['embarked'] != 0:  # 不是缺失值情况\n",
    "                        count[data['embarked'] - 1][data['survived']] += data['w']   # 添加相应的权重\n",
    "                        dataNum += 1  # 非缺失值加1\n",
    "                rho = dataNum/len(datas)\n",
    "                gini = 0\n",
    "                for i in range(3):  # 计算基尼指数\n",
    "                    gini += (count[i][0] + count[i][1])/len(datas) * (1 - (count[i][1]/(count[i][0] + count[i][1]))**2)\n",
    "                gini *= rho   # 乘以rho\n",
    "                giniList.append(gini)\n",
    "                \n",
    "            elif a == 'age':\n",
    "                ageList = []\n",
    "                for data in datas:\n",
    "                    if data['age'] != 0:  # 当不是缺失值时\n",
    "                        ageList.append(data['age'])   # 添加所有的age\n",
    "                ageNum = len(ageList)\n",
    "                rho = ageNum/len(datas)\n",
    "                ageList = list(set(ageList))   # 去重\n",
    "                ageList.sort()\n",
    "                for i in range(len(ageList) - 1):\n",
    "                    ageList[i] = (ageList[i] + ageList[i+1])/2   # 计算所有可能的中位值\n",
    "                ageList.pop()\n",
    "                gini_temp = []  # 暂存所有的gini指数\n",
    "                for age in ageList:\n",
    "                    count=[[0,0], [0,0]]\n",
    "                    for data in datas:\n",
    "                        if data['age'] != 0:\n",
    "                            if data['age'] < age:\n",
    "                                count[0][data['survived']] += data['w']   # 添加相应的权重\n",
    "                            else:\n",
    "                                count[1][data['survived']] += data['w']   # 添加相应的权重\n",
    "                    gini = 0\n",
    "                    for i in range(2):  # 计算基尼指数\n",
    "                        gini += (count[i][0] + count[i][1])/len(datas) * (1 - (count[i][1]/(count[i][0] + count[i][1]))**2)\n",
    "                    gini *= rho   # 乘以rho\n",
    "                    gini_temp.append(gini)\n",
    "                gini = min(gini_temp)   # 求出最小的基尼指数\n",
    "                age = ageList[gini_temp.index(gini)]   # 求出最小基尼指数相应的划分age\n",
    "                giniList.append(gini)\n",
    "            \n",
    "            gini = min(giniList)  # 求出所有划分可能中最小的基尼指数\n",
    "            a = attributes[giniList.index(gini)]  # 求出对应的划分属性\n",
    "            \n",
    "            if a == 'age':\n",
    "                return gini, a, age # 连续值情况下，返回对应的划分边界\n",
    "            elif a =='fare':\n",
    "                return gini, a, fare # 连续值情况下，返回对应的划分边界\n",
    "            else:\n",
    "                return gini, a, 0\n",
    "    def predict(self, node, predictData):\n",
    "        if node.kind != -1:  # 当前结点为叶子结点时\n",
    "            return node.kind\n",
    "        else:\n",
    "            a = node.attribute\n",
    "            if a == 'embarked':\n",
    "                if predictData[a] == 0:    # 当前结点此值为缺失值时\n",
    "                    return self.predict(node.son[node.prior], predictData)\n",
    "                else:  # 如果不是缺失值，则按属性划分\n",
    "                    return self.predict(node.son[predictData[a] - 1], predictData)\n",
    "            elif a == 'fare':\n",
    "                if predictData[a] < node.boundary:   # 连续值处理\n",
    "                    return self.predict(node.son[0], predictData)\n",
    "                else:\n",
    "                    return self.predict(node.son[1], predictData)\n",
    "            elif a == 'age':\n",
    "                if predictData[a] == 0:        # 当前结点此值为缺失值\n",
    "                    return self.predict(node.son[node.prior], predictData)\n",
    "                else:\n",
    "                    if predictData[a] < node.boundary:   # 连续值处理\n",
    "                        return self.predict(node.son[0], predictData)\n",
    "                    else:\n",
    "                        return self.predict(node.son[1], predictData)\n",
    "            else:\n",
    "                return self.predict(node.son[predictData[a]], predictData)"
   ]
  },
  {
   "cell_type": "code",
   "execution_count": 15,
   "metadata": {
    "pycharm": {
     "is_executing": false
    }
   },
   "outputs": [],
   "source": [
    "cartTree = decisionTree()"
   ]
  },
  {
   "cell_type": "code",
   "execution_count": 16,
   "metadata": {
    "pycharm": {
     "is_executing": false
    }
   },
   "outputs": [
    {
     "name": "stdout",
     "output_type": "stream",
     "text": [
      "1-*pclass\n",
      "2-*-*sex\n",
      "3-*-*-*age\n",
      "4-*-*-*-*sibsp\n",
      "5-*-*-*-*-*fare\n",
      "6-*-*-*-*-*-*cabin\n",
      "5-*-*-*-*-*fare\n",
      "6-*-*-*-*-*-*cabin\n",
      "4-*-*-*-*fare\n",
      "5-*-*-*-*-*cabin\n",
      "3-*-*-*age\n",
      "4-*-*-*-*fare\n",
      "4-*-*-*-*sibsp\n",
      "5-*-*-*-*-*fare\n",
      "2-*-*sex\n",
      "3-*-*-*age\n",
      "4-*-*-*-*fare\n",
      "5-*-*-*-*-*cabin\n",
      "4-*-*-*-*fare\n",
      "5-*-*-*-*-*cabin\n",
      "5-*-*-*-*-*cabin\n",
      "3-*-*-*age\n",
      "4-*-*-*-*sibsp\n",
      "5-*-*-*-*-*fare\n",
      "6-*-*-*-*-*-*cabin\n",
      "7-*-*-*-*-*-*-*embarked\n",
      "4-*-*-*-*parch\n",
      "5-*-*-*-*-*fare\n",
      "6-*-*-*-*-*-*cabin\n",
      "2-*-*sex\n",
      "3-*-*-*age\n",
      "4-*-*-*-*sibsp\n",
      "5-*-*-*-*-*fare\n",
      "6-*-*-*-*-*-*cabin\n",
      "7-*-*-*-*-*-*-*embarked\n",
      "6-*-*-*-*-*-*embarked\n",
      "5-*-*-*-*-*fare\n",
      "6-*-*-*-*-*-*embarked\n",
      "6-*-*-*-*-*-*embarked\n",
      "4-*-*-*-*sibsp\n",
      "5-*-*-*-*-*fare\n",
      "6-*-*-*-*-*-*cabin\n",
      "7-*-*-*-*-*-*-*embarked\n",
      "6-*-*-*-*-*-*embarked\n",
      "5-*-*-*-*-*parch\n",
      "6-*-*-*-*-*-*fare\n",
      "7-*-*-*-*-*-*-*embarked\n",
      "7-*-*-*-*-*-*-*embarked\n",
      "6-*-*-*-*-*-*fare\n",
      "7-*-*-*-*-*-*-*embarked\n",
      "3-*-*-*age\n",
      "4-*-*-*-*sibsp\n",
      "5-*-*-*-*-*parch\n",
      "6-*-*-*-*-*-*fare\n",
      "7-*-*-*-*-*-*-*embarked\n",
      "7-*-*-*-*-*-*-*embarked\n",
      "6-*-*-*-*-*-*fare\n",
      "7-*-*-*-*-*-*-*cabin\n",
      "8-*-*-*-*-*-*-*-*embarked\n",
      "6-*-*-*-*-*-*fare\n",
      "5-*-*-*-*-*fare\n",
      "6-*-*-*-*-*-*cabin\n",
      "6-*-*-*-*-*-*cabin\n",
      "7-*-*-*-*-*-*-*embarked\n",
      "5-*-*-*-*-*fare\n",
      "4-*-*-*-*sibsp\n",
      "5-*-*-*-*-*parch\n",
      "6-*-*-*-*-*-*fare\n",
      "6-*-*-*-*-*-*fare\n",
      "5-*-*-*-*-*parch\n",
      "6-*-*-*-*-*-*fare\n",
      "6-*-*-*-*-*-*fare\n"
     ]
    }
   ],
   "source": [
    "cartTree.root = cartTree.createTree(attributes = ['pclass', 'sex', 'age', 'sibsp', 'parch', 'fare', 'cabin', 'embarked'], datas = trainData, layer = 1)"
   ]
  },
  {
   "cell_type": "code",
   "execution_count": 19,
   "metadata": {
    "pycharm": {
     "is_executing": false
    }
   },
   "outputs": [
    {
     "name": "stdout",
     "output_type": "stream",
     "text": [
      "验证集准确率：0.7266666666666667\n"
     ]
    }
   ],
   "source": [
    "count = 0\n",
    "for data in devData:\n",
    "    if data['survived'] == cartTree.predict(cartTree.root, data):\n",
    "        count +=1\n",
    "print('验证集准确率：'+ str(count/len(devData)))"
   ]
  },
  {
   "cell_type": "code",
   "execution_count": 18,
   "metadata": {
    "pycharm": {
     "is_executing": false
    }
   },
   "outputs": [
    {
     "name": "stdout",
     "output_type": "stream",
     "text": [
      "109\n"
     ]
    }
   ],
   "source": [
    "print(count)"
   ]
  },
  {
   "cell_type": "code",
   "execution_count": null,
   "metadata": {
    "pycharm": {
     "is_executing": false
    }
   },
   "outputs": [],
   "source": [
    "print(a)"
   ]
  },
  {
   "cell_type": "code",
   "execution_count": null,
   "metadata": {
    "pycharm": {
     "is_executing": false
    }
   },
   "outputs": [],
   "source": []
  }
 ],
 "metadata": {
  "kernelspec": {
   "display_name": "Python 3",
   "language": "python",
   "name": "python3"
  },
  "language_info": {
   "codemirror_mode": {
    "name": "ipython",
    "version": 3
   },
   "file_extension": ".py",
   "mimetype": "text/x-python",
   "name": "python",
   "nbconvert_exporter": "python",
   "pygments_lexer": "ipython3",
   "version": "3.7.0"
  }
 },
 "nbformat": 4,
 "nbformat_minor": 2
}
